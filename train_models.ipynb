{
 "cells": [
  {
   "cell_type": "markdown",
   "metadata": {},
   "source": [
    "<b> Feature Extraction </b>"
   ]
  },
  {
   "cell_type": "code",
   "execution_count": 1,
   "metadata": {},
   "outputs": [],
   "source": [
    "import models"
   ]
  },
  {
   "cell_type": "markdown",
   "metadata": {},
   "source": [
    "<b> If model is cnn, it will only run cnn class for 7 epochs. It will also save the keras model(cnn.h5) into the same directory. </b>"
   ]
  },
  {
   "cell_type": "code",
   "execution_count": 2,
   "metadata": {},
   "outputs": [
    {
     "name": "stdout",
     "output_type": "stream",
     "text": [
      "None\n",
      "Epoch 1/7\n",
      "266/266 [==============================] - 446s 2s/step - loss: 0.2925 - accuracy: 0.8621 - val_loss: 0.1575 - val_accuracy: 0.9411\n",
      "Epoch 2/7\n",
      "266/266 [==============================] - 433s 2s/step - loss: 0.1197 - accuracy: 0.9583 - val_loss: 0.0993 - val_accuracy: 0.9633\n",
      "Epoch 3/7\n",
      "266/266 [==============================] - 527s 2s/step - loss: 0.0967 - accuracy: 0.9668 - val_loss: 0.0671 - val_accuracy: 0.9769\n",
      "Epoch 4/7\n",
      "266/266 [==============================] - 589s 2s/step - loss: 0.0706 - accuracy: 0.9753 - val_loss: 0.0635 - val_accuracy: 0.9779\n",
      "Epoch 5/7\n",
      "266/266 [==============================] - 559s 2s/step - loss: 0.0583 - accuracy: 0.9797 - val_loss: 0.0593 - val_accuracy: 0.9797\n",
      "Epoch 6/7\n",
      "266/266 [==============================] - 578s 2s/step - loss: 0.0493 - accuracy: 0.9837 - val_loss: 0.0572 - val_accuracy: 0.9793\n",
      "Epoch 7/7\n",
      "266/266 [==============================] - 567s 2s/step - loss: 0.0414 - accuracy: 0.9866 - val_loss: 0.0527 - val_accuracy: 0.9826\n"
     ]
    },
    {
     "data": {
      "image/png": "[encoded data removed]",
      "text/plain": [
       "<Figure size 432x288 with 1 Axes>"
      ]
     },
     "metadata": {
      "needs_background": "light"
     },
     "output_type": "display_data"
    },
    {
     "name": "stdout",
     "output_type": "stream",
     "text": [
      "37/37 [==============================] - 21s 560ms/step - loss: 0.0643 - accuracy: 0.9797\n",
      "accuracy cnn [0.06431775540113449, 0.9796609878540039]\n"
     ]
    }
   ],
   "source": [
    "model = 'cnn'\n",
    "models.main(model)"
   ]
  },
  {
   "cell_type": "markdown",
   "metadata": {},
   "source": [
    "<b> CLASSIFICATION </b>"
   ]
  },
  {
   "cell_type": "code",
   "execution_count": 2,
   "metadata": {},
   "outputs": [],
   "source": [
    "import models"
   ]
  },
  {
   "cell_type": "markdown",
   "metadata": {},
   "source": [
    "<b>If cnn is trained it will create a cnn.h5 file then we only need to run classification class which uses cnn.h5 model. Running classification class saves all the models(SVM, KNN, Decision Tree) in the same directory.</b>"
   ]
  },
  {
   "cell_type": "code",
   "execution_count": 3,
   "metadata": {},
   "outputs": [
    {
     "name": "stdout",
     "output_type": "stream",
     "text": [
      "{'mask': 0, 'no_mask': 1}\n",
      "classification\n",
      "Training SVM\n",
      "SVM accuracy: 0.989\n",
      "Training Decision Tree\n",
      "DT accuracy 0.983\n",
      "Training KNN\n",
      "KNN accuracy 0.989\n"
     ]
    }
   ],
   "source": [
    "model = 'classification'\n",
    "models.main(model)"
   ]
  }
 ],
 "metadata": {
  "kernelspec": {
   "display_name": "Python 3",
   "language": "python",
   "name": "python3"
  },
  "language_info": {
   "codemirror_mode": {
    "name": "ipython",
    "version": 3
   },
   "file_extension": ".py",
   "mimetype": "text/x-python",
   "name": "python",
   "nbconvert_exporter": "python",
   "pygments_lexer": "ipython3",
   "version": "3.7.9"
  }
 },
 "nbformat": 4,
 "nbformat_minor": 4
}
