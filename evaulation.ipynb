{
 "cells": [
  {
   "cell_type": "code",
   "execution_count": 1,
   "metadata": {},
   "outputs": [],
   "source": [
    "import pickle\n",
    "import numpy as np\n",
    "import seaborn as sns\n",
    "import itertools\n",
    "import matplotlib.pyplot as plt\n",
    "from sklearn.metrics import ConfusionMatrixDisplay\n",
    "from sklearn.metrics import accuracy_score, confusion_matrix, classification_report, recall_score, precision_score, f1_score"
   ]
  },
  {
   "cell_type": "code",
   "execution_count": 2,
   "metadata": {},
   "outputs": [],
   "source": [
    "def plot_confusion_matrix(cf_matrix, true_labels, output_filename):\n",
    "    \n",
    "    plt.figsize =(10,10)\n",
    "    plt.title('Confusion Matrix')\n",
    "   \n",
    "    \n",
    "    #plot\n",
    "    group_names = ['True Neg','False Pos','False Neg','True Pos']\n",
    "    group_counts = [\"{0:0.0f}\".format(value) for value in\n",
    "                    cf_matrix.flatten()]\n",
    "    \n",
    "    group_percentages = [\"{0:.2%}\".format(value) for value in\n",
    "                         cf_matrix.flatten()/np.sum(cf_matrix)]\n",
    "    \n",
    "    labels = [f\"{v1}\\n{v2}\\n{v3}\" for v1, v2, v3 in\n",
    "              zip(group_names,group_counts,group_percentages)]\n",
    "    \n",
    "    labels = np.asarray(labels).reshape(2,2)\n",
    "    \n",
    "    sns.heatmap(cf_matrix, annot=labels, fmt='', cmap='Blues')\n",
    "    \n",
    "    plt.xlabel('Predicted')\n",
    "    plt.ylabel('Actual')\n",
    "    tick_marks = np.arange(len(set(true_labels))) # length of classes\n",
    "    class_labels = ['0','1']\n",
    "    \n",
    "    #tick_marks\n",
    "    plt.xticks(tick_marks,class_labels)\n",
    "    plt.yticks(tick_marks,class_labels)\n",
    "    plt.savefig(output_filename)\n",
    "    plt.show()\n",
    "    \n",
    "def print_performance_metrics(true_labels, pred, model):\n",
    "    print(classification_report(true_labels,pred))\n",
    "    \n",
    "    print( model , 'Accuracy = ', accuracy_score(true_labels,pred))\n",
    "    print(model , 'Precision = ', precision_score(true_labels,pred))\n",
    "    print(model , 'Recall = ', recall_score(true_labels,pred))\n",
    "    print(model , 'F1 Score = ', f1_score(true_labels,pred))\n",
    "    \n",
    "    \n",
    "    cm_matrix = confusion_matrix(true_labels, pred)\n",
    "    \n",
    "    # create confusion matrix plot\n",
    "    \n",
    "    plot_confusion_matrix(cm_matrix,true_labels, model)\n",
    "\n",
    "    tn, fp, fn, tp = cm_matrix.ravel()\n",
    "    print('False Positive Rate =', fp/(fp + tn))\n",
    "    print('False Negative Rate =', fn/(fn + tp))\n",
    "    "
   ]
  },
  {
   "cell_type": "markdown",
   "metadata": {},
   "source": [
    "<b> Load Classification Models <b>"
   ]
  },
  {
   "cell_type": "code",
   "execution_count": 3,
   "metadata": {},
   "outputs": [],
   "source": [
    "svm_model, svm_ytest, svm_pred = pickle.load(open(\"svm.pkl\", 'rb'))\n",
    "dt_model, dt_ytest, dt_pred = pickle.load(open(\"dt.pkl\", 'rb'))\n",
    "knn_model, knn_ytest, knn_pred = pickle.load(open(\"knn.pkl\", 'rb'))"
   ]
  },
  {
   "cell_type": "markdown",
   "metadata": {},
   "source": [
    "<b> Performance Analysis of the models <b>"
   ]
  },
  {
   "cell_type": "code",
   "execution_count": 4,
   "metadata": {},
   "outputs": [
    {
     "name": "stdout",
     "output_type": "stream",
     "text": [
      "              precision    recall  f1-score   support\n",
      "\n",
      "         0.0       0.98      1.00      0.99       492\n",
      "         1.0       1.00      0.98      0.99       508\n",
      "\n",
      "    accuracy                           0.99      1000\n",
      "   macro avg       0.99      0.99      0.99      1000\n",
      "weighted avg       0.99      0.99      0.99      1000\n",
      "\n",
      "SVM Accuracy =  0.989\n",
      "SVM Precision =  0.9960079840319361\n",
      "SVM Recall =  0.9822834645669292\n",
      "SVM F1 Score =  0.9890981169474728\n"
     ]
    },
    {
     "data": {
      "image/png": "[encoded data removed]",
      "text/plain": [
       "<Figure size 432x288 with 2 Axes>"
      ]
     },
     "metadata": {
      "needs_background": "light"
     },
     "output_type": "display_data"
    },
    {
     "name": "stdout",
     "output_type": "stream",
     "text": [
      "False Positive Rate = 0.0040650406504065045\n",
      "False Negative Rate = 0.017716535433070866\n"
     ]
    }
   ],
   "source": [
    "print_performance_metrics(svm_ytest, svm_pred, 'SVM')"
   ]
  },
  {
   "cell_type": "code",
   "execution_count": 5,
   "metadata": {},
   "outputs": [
    {
     "name": "stdout",
     "output_type": "stream",
     "text": [
      "              precision    recall  f1-score   support\n",
      "\n",
      "         0.0       0.98      0.99      0.98       492\n",
      "         1.0       0.99      0.98      0.98       508\n",
      "\n",
      "    accuracy                           0.98      1000\n",
      "   macro avg       0.98      0.98      0.98      1000\n",
      "weighted avg       0.98      0.98      0.98      1000\n",
      "\n",
      "Decision Tree Accuracy =  0.983\n",
      "Decision Tree Precision =  0.9900199600798403\n",
      "Decision Tree Recall =  0.9763779527559056\n",
      "Decision Tree F1 Score =  0.9831516352824579\n"
     ]
    },
    {
     "data": {
      "image/png": "[encoded data removed]",
      "text/plain": [
       "<Figure size 432x288 with 2 Axes>"
      ]
     },
     "metadata": {
      "needs_background": "light"
     },
     "output_type": "display_data"
    },
    {
     "name": "stdout",
     "output_type": "stream",
     "text": [
      "False Positive Rate = 0.01016260162601626\n",
      "False Negative Rate = 0.023622047244094488\n"
     ]
    }
   ],
   "source": [
    "print_performance_metrics(dt_ytest, dt_pred, 'Decision Tree')"
   ]
  },
  {
   "cell_type": "code",
   "execution_count": 6,
   "metadata": {},
   "outputs": [
    {
     "name": "stdout",
     "output_type": "stream",
     "text": [
      "              precision    recall  f1-score   support\n",
      "\n",
      "         0.0       0.98      0.99      0.99       492\n",
      "         1.0       0.99      0.98      0.99       508\n",
      "\n",
      "    accuracy                           0.99      1000\n",
      "   macro avg       0.99      0.99      0.99      1000\n",
      "weighted avg       0.99      0.99      0.99      1000\n",
      "\n",
      "KNN Accuracy =  0.989\n",
      "KNN Precision =  0.9940357852882704\n",
      "KNN Recall =  0.984251968503937\n",
      "KNN F1 Score =  0.9891196834817013\n"
     ]
    },
    {
     "data": {
      "image/png": "[encoded data removed]",
      "text/plain": [
       "<Figure size 432x288 with 2 Axes>"
      ]
     },
     "metadata": {
      "needs_background": "light"
     },
     "output_type": "display_data"
    },
    {
     "name": "stdout",
     "output_type": "stream",
     "text": [
      "False Positive Rate = 0.006097560975609756\n",
      "False Negative Rate = 0.015748031496062992\n"
     ]
    }
   ],
   "source": [
    "print_performance_metrics(knn_ytest, knn_pred, 'KNN')"
   ]
  },
  {
   "cell_type": "markdown",
   "metadata": {},
   "source": [
    "<b>Mask Detection using the best model</b>"
   ]
  },
  {
   "cell_type": "code",
   "execution_count": 7,
   "metadata": {},
   "outputs": [],
   "source": [
    "import mask_detection"
   ]
  },
  {
   "cell_type": "markdown",
   "metadata": {},
   "source": [
    "<b>Choosing the model type as classification or deep-learning. For classification, the model is also passed as parameter</b>"
   ]
  },
  {
   "cell_type": "code",
   "execution_count": 8,
   "metadata": {},
   "outputs": [
    {
     "name": "stdout",
     "output_type": "stream",
     "text": [
      "in camera class\n"
     ]
    }
   ],
   "source": [
    "type= 'classification'\n",
    "mask_detection.main(type, svm_model)"
   ]
  }
 ],
 "metadata": {
  "kernelspec": {
   "display_name": "Python 3",
   "language": "python",
   "name": "python3"
  },
  "language_info": {
   "codemirror_mode": {
    "name": "ipython",
    "version": 3
   },
   "file_extension": ".py",
   "mimetype": "text/x-python",
   "name": "python",
   "nbconvert_exporter": "python",
   "pygments_lexer": "ipython3",
   "version": "3.7.9"
  }
 },
 "nbformat": 4,
 "nbformat_minor": 4
}
